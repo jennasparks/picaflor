{
 "cells": [
  {
   "cell_type": "code",
   "execution_count": 76,
   "id": "782c359d-c88f-4205-9561-e0bcaabab809",
   "metadata": {},
   "outputs": [],
   "source": [
    "import pandas as pd\n",
    "import numpy as np\n",
    "# This is on my local machine\n",
    "pica = pd.read_csv('/Users/jennasparks/Desktop/Picaflor/monitoreo_nido_picaflor_2021.csv')"
   ]
  },
  {
   "cell_type": "code",
   "execution_count": 77,
   "id": "9f6ff969-5d0c-44c3-b096-f67937c46e4b",
   "metadata": {},
   "outputs": [
    {
     "data": {
      "text/plain": [
       "(324, 15)"
      ]
     },
     "execution_count": 77,
     "metadata": {},
     "output_type": "execute_result"
    }
   ],
   "source": [
    "# Pre-modifications\n",
    "pica.head()\n",
    "pica.shape"
   ]
  },
  {
   "cell_type": "code",
   "execution_count": 78,
   "id": "28c066cf-a08a-4ccd-a150-681f61f43d33",
   "metadata": {},
   "outputs": [
    {
     "name": "stdout",
     "output_type": "stream",
     "text": [
      "    numero especie  ch_primer  ch_primer_j\n",
      "0        1      sf 2021-07-03          184\n",
      "1        2      sf 2021-07-15          196\n",
      "2        3      sf 2021-07-15          196\n",
      "3        4      sf 2021-07-20          201\n",
      "4        5      sf 2021-07-20          201\n",
      "5        6      sf 2021-07-22          203\n",
      "6        7      ss 2021-07-22          203\n",
      "7        8      sf 2021-07-31          212\n",
      "8        9      sf 2021-08-03          215\n",
      "9       10      ss 2021-08-03          215\n",
      "10      11      sf 2021-08-05          217\n",
      "11      12      sf 2021-08-05          217\n",
      "12      13      sf 2021-08-10          222\n",
      "13      14      ss 2021-08-10          222\n",
      "14      15      sf 2021-08-10          222\n",
      "15      16      ss 2021-08-10          222\n",
      "16      17      ss 2021-08-10          222\n",
      "17      18      ss 2021-08-19          231\n",
      "18      19      ss 2021-08-19          231\n",
      "19      20      ss 2021-08-31          243\n",
      "20      21      ss 2021-08-24          236\n",
      "21      22      ss 2021-08-31          243\n",
      "22      23      ss 2021-08-31          243\n",
      "23      24      ss 2021-08-31          243\n",
      "24      25      ss 2021-09-07          250\n",
      "25      26      ss 2021-09-07          250\n",
      "26      27      ss 2021-09-07          250\n",
      "27      28      ss 2021-09-07          250\n",
      "28      29      sf 2021-09-07          250\n",
      "29      30      ss 2021-09-07          250\n",
      "30      31      ss 2021-09-07          250\n",
      "31      32      ss 2021-09-14          257\n",
      "32      33      ss 2021-09-14          257\n",
      "33      34      ss 2021-09-14          257\n",
      "34      35      sf 2021-09-14          257\n",
      "35      36      ss 2021-09-14          257\n",
      "36      37      ss 2021-09-14          257\n",
      "37      38      ss 2021-09-14          257\n",
      "38      39      sf 2021-09-14          257\n",
      "39      40      ss 2021-09-14          257\n",
      "40      41      ss 2021-09-20          263\n",
      "41      42      ss 2021-09-20          263\n",
      "42      43      sf 2021-09-20          263\n",
      "43      44      ss 2021-09-20          263\n",
      "44      45      ss 2021-09-20          263\n",
      "45      46      ss 2021-09-20          263\n",
      "46      47      sf 2021-10-01          274\n",
      "47      48      ss 2021-10-01          274\n",
      "48      49      ss 2021-10-05          278\n",
      "49      50      sf 2021-10-12          285\n",
      "50      51      ss 2021-10-12          285\n",
      "51      52      Sf 2021-10-12          285\n",
      "52      53      sf 2021-10-12          285\n",
      "53      54      ss 2021-10-12          285\n"
     ]
    }
   ],
   "source": [
    "# Convert the Fecha column to datetime\n",
    "pica[\"FECHA\"] = pd.to_datetime(pica[\"FECHA\"])\n",
    "\n",
    "# Group by NUMERO and select the earliest date and first value of ESPECIE for each group\n",
    "datospornido = pica.groupby(\"NUMERO\").agg({\"FECHA\": \"min\", \"ESPECIE\": \"first\"}).reset_index()\n",
    "\n",
    "# Extract the first two letters of the ESPECIE column and create a new column called especie\n",
    "datospornido[\"especie\"] = datospornido[\"ESPECIE\"].str[:2]\n",
    "\n",
    "datospornido = datospornido.drop(columns=\"ESPECIE\")\n",
    "\n",
    "datospornido = datospornido.rename(columns={\"FECHA\": \"ch_primer\", \"NUMERO\": \"numero\"})\n",
    "\n",
    "# Add a new column called ch_primer_j that contains the Julian dates of the ch_primer column\n",
    "datospornido[\"ch_primer_j\"] = datospornido[\"ch_primer\"].apply(lambda x: x.timetuple().tm_yday)\n",
    "\n",
    "# Define the new order of columns\n",
    "new_cols = ['numero', 'especie', 'ch_primer', 'ch_primer_j']\n",
    "\n",
    "# Reorder the columns\n",
    "datospornido = datospornido.reindex(columns=new_cols)\n",
    "\n",
    "# Print the datospornido dataframe\n",
    "print(datospornido)"
   ]
  },
  {
   "cell_type": "code",
   "execution_count": 75,
   "id": "f513781f-fd20-4590-a08b-c2446701009f",
   "metadata": {},
   "outputs": [
    {
     "ename": "KeyError",
     "evalue": "'numero'",
     "output_type": "error",
     "traceback": [
      "\u001b[0;31m---------------------------------------------------------------------------\u001b[0m",
      "\u001b[0;31mKeyError\u001b[0m                                  Traceback (most recent call last)",
      "Input \u001b[0;32mIn [75]\u001b[0m, in \u001b[0;36m<cell line: 5>\u001b[0;34m()\u001b[0m\n\u001b[1;32m      2\u001b[0m ch_prim_pol \u001b[38;5;241m=\u001b[39m pica\u001b[38;5;241m.\u001b[39mgroupby([\u001b[38;5;124m\"\u001b[39m\u001b[38;5;124mNUMERO\u001b[39m\u001b[38;5;124m\"\u001b[39m, \u001b[38;5;124m\"\u001b[39m\u001b[38;5;124mPOLLUELOS\u001b[39m\u001b[38;5;124m\"\u001b[39m])[\u001b[38;5;124m\"\u001b[39m\u001b[38;5;124mFECHA\u001b[39m\u001b[38;5;124m\"\u001b[39m]\u001b[38;5;241m.\u001b[39mmin()\u001b[38;5;241m.\u001b[39mreset_index()\n\u001b[1;32m      4\u001b[0m \u001b[38;5;66;03m# Merge the datospornido dataframe with the ch_prim_pol dataframe\u001b[39;00m\n\u001b[0;32m----> 5\u001b[0m datospornido \u001b[38;5;241m=\u001b[39m \u001b[43mpd\u001b[49m\u001b[38;5;241;43m.\u001b[39;49m\u001b[43mmerge\u001b[49m\u001b[43m(\u001b[49m\u001b[43mdatospornido\u001b[49m\u001b[43m,\u001b[49m\u001b[43m \u001b[49m\u001b[43mch_prim_pol\u001b[49m\u001b[43m,\u001b[49m\u001b[43m \u001b[49m\u001b[43mon\u001b[49m\u001b[38;5;241;43m=\u001b[39;49m\u001b[38;5;124;43m\"\u001b[39;49m\u001b[38;5;124;43mnumero\u001b[39;49m\u001b[38;5;124;43m\"\u001b[39;49m\u001b[43m,\u001b[49m\u001b[43m \u001b[49m\u001b[43mhow\u001b[49m\u001b[38;5;241;43m=\u001b[39;49m\u001b[38;5;124;43m\"\u001b[39;49m\u001b[38;5;124;43mleft\u001b[39;49m\u001b[38;5;124;43m\"\u001b[39;49m\u001b[43m)\u001b[49m\n\u001b[1;32m      7\u001b[0m \u001b[38;5;66;03m# Subtract 20 days from the first check date when there were chicks to infer the lay date, unless it doesn't make sense based on egg check\u001b[39;00m\n\u001b[1;32m      8\u001b[0m datospornido\u001b[38;5;241m.\u001b[39mloc[datospornido[\u001b[38;5;124m\"\u001b[39m\u001b[38;5;124mFECHA_x\u001b[39m\u001b[38;5;124m\"\u001b[39m] \u001b[38;5;241m<\u001b[39m datospornido[\u001b[38;5;124m\"\u001b[39m\u001b[38;5;124mFECHA_y\u001b[39m\u001b[38;5;124m\"\u001b[39m] \u001b[38;5;241m-\u001b[39m pd\u001b[38;5;241m.\u001b[39mTimedelta(days\u001b[38;5;241m=\u001b[39m\u001b[38;5;241m20\u001b[39m), \u001b[38;5;124m\"\u001b[39m\u001b[38;5;124mfecha_infer\u001b[39m\u001b[38;5;124m\"\u001b[39m] \u001b[38;5;241m=\u001b[39m datospornido[\u001b[38;5;124m\"\u001b[39m\u001b[38;5;124mFECHA_x\u001b[39m\u001b[38;5;124m\"\u001b[39m]\n",
      "File \u001b[0;32m~/opt/anaconda3/lib/python3.9/site-packages/pandas/core/reshape/merge.py:107\u001b[0m, in \u001b[0;36mmerge\u001b[0;34m(left, right, how, on, left_on, right_on, left_index, right_index, sort, suffixes, copy, indicator, validate)\u001b[0m\n\u001b[1;32m     90\u001b[0m \u001b[38;5;129m@Substitution\u001b[39m(\u001b[38;5;124m\"\u001b[39m\u001b[38;5;130;01m\\n\u001b[39;00m\u001b[38;5;124mleft : DataFrame or named Series\u001b[39m\u001b[38;5;124m\"\u001b[39m)\n\u001b[1;32m     91\u001b[0m \u001b[38;5;129m@Appender\u001b[39m(_merge_doc, indents\u001b[38;5;241m=\u001b[39m\u001b[38;5;241m0\u001b[39m)\n\u001b[1;32m     92\u001b[0m \u001b[38;5;28;01mdef\u001b[39;00m \u001b[38;5;21mmerge\u001b[39m(\n\u001b[0;32m   (...)\u001b[0m\n\u001b[1;32m    105\u001b[0m     validate: \u001b[38;5;28mstr\u001b[39m \u001b[38;5;241m|\u001b[39m \u001b[38;5;28;01mNone\u001b[39;00m \u001b[38;5;241m=\u001b[39m \u001b[38;5;28;01mNone\u001b[39;00m,\n\u001b[1;32m    106\u001b[0m ) \u001b[38;5;241m-\u001b[39m\u001b[38;5;241m>\u001b[39m DataFrame:\n\u001b[0;32m--> 107\u001b[0m     op \u001b[38;5;241m=\u001b[39m \u001b[43m_MergeOperation\u001b[49m\u001b[43m(\u001b[49m\n\u001b[1;32m    108\u001b[0m \u001b[43m        \u001b[49m\u001b[43mleft\u001b[49m\u001b[43m,\u001b[49m\n\u001b[1;32m    109\u001b[0m \u001b[43m        \u001b[49m\u001b[43mright\u001b[49m\u001b[43m,\u001b[49m\n\u001b[1;32m    110\u001b[0m \u001b[43m        \u001b[49m\u001b[43mhow\u001b[49m\u001b[38;5;241;43m=\u001b[39;49m\u001b[43mhow\u001b[49m\u001b[43m,\u001b[49m\n\u001b[1;32m    111\u001b[0m \u001b[43m        \u001b[49m\u001b[43mon\u001b[49m\u001b[38;5;241;43m=\u001b[39;49m\u001b[43mon\u001b[49m\u001b[43m,\u001b[49m\n\u001b[1;32m    112\u001b[0m \u001b[43m        \u001b[49m\u001b[43mleft_on\u001b[49m\u001b[38;5;241;43m=\u001b[39;49m\u001b[43mleft_on\u001b[49m\u001b[43m,\u001b[49m\n\u001b[1;32m    113\u001b[0m \u001b[43m        \u001b[49m\u001b[43mright_on\u001b[49m\u001b[38;5;241;43m=\u001b[39;49m\u001b[43mright_on\u001b[49m\u001b[43m,\u001b[49m\n\u001b[1;32m    114\u001b[0m \u001b[43m        \u001b[49m\u001b[43mleft_index\u001b[49m\u001b[38;5;241;43m=\u001b[39;49m\u001b[43mleft_index\u001b[49m\u001b[43m,\u001b[49m\n\u001b[1;32m    115\u001b[0m \u001b[43m        \u001b[49m\u001b[43mright_index\u001b[49m\u001b[38;5;241;43m=\u001b[39;49m\u001b[43mright_index\u001b[49m\u001b[43m,\u001b[49m\n\u001b[1;32m    116\u001b[0m \u001b[43m        \u001b[49m\u001b[43msort\u001b[49m\u001b[38;5;241;43m=\u001b[39;49m\u001b[43msort\u001b[49m\u001b[43m,\u001b[49m\n\u001b[1;32m    117\u001b[0m \u001b[43m        \u001b[49m\u001b[43msuffixes\u001b[49m\u001b[38;5;241;43m=\u001b[39;49m\u001b[43msuffixes\u001b[49m\u001b[43m,\u001b[49m\n\u001b[1;32m    118\u001b[0m \u001b[43m        \u001b[49m\u001b[43mcopy\u001b[49m\u001b[38;5;241;43m=\u001b[39;49m\u001b[43mcopy\u001b[49m\u001b[43m,\u001b[49m\n\u001b[1;32m    119\u001b[0m \u001b[43m        \u001b[49m\u001b[43mindicator\u001b[49m\u001b[38;5;241;43m=\u001b[39;49m\u001b[43mindicator\u001b[49m\u001b[43m,\u001b[49m\n\u001b[1;32m    120\u001b[0m \u001b[43m        \u001b[49m\u001b[43mvalidate\u001b[49m\u001b[38;5;241;43m=\u001b[39;49m\u001b[43mvalidate\u001b[49m\u001b[43m,\u001b[49m\n\u001b[1;32m    121\u001b[0m \u001b[43m    \u001b[49m\u001b[43m)\u001b[49m\n\u001b[1;32m    122\u001b[0m     \u001b[38;5;28;01mreturn\u001b[39;00m op\u001b[38;5;241m.\u001b[39mget_result()\n",
      "File \u001b[0;32m~/opt/anaconda3/lib/python3.9/site-packages/pandas/core/reshape/merge.py:700\u001b[0m, in \u001b[0;36m_MergeOperation.__init__\u001b[0;34m(self, left, right, how, on, left_on, right_on, axis, left_index, right_index, sort, suffixes, copy, indicator, validate)\u001b[0m\n\u001b[1;32m    693\u001b[0m \u001b[38;5;28mself\u001b[39m\u001b[38;5;241m.\u001b[39m_cross \u001b[38;5;241m=\u001b[39m cross_col\n\u001b[1;32m    695\u001b[0m \u001b[38;5;66;03m# note this function has side effects\u001b[39;00m\n\u001b[1;32m    696\u001b[0m (\n\u001b[1;32m    697\u001b[0m     \u001b[38;5;28mself\u001b[39m\u001b[38;5;241m.\u001b[39mleft_join_keys,\n\u001b[1;32m    698\u001b[0m     \u001b[38;5;28mself\u001b[39m\u001b[38;5;241m.\u001b[39mright_join_keys,\n\u001b[1;32m    699\u001b[0m     \u001b[38;5;28mself\u001b[39m\u001b[38;5;241m.\u001b[39mjoin_names,\n\u001b[0;32m--> 700\u001b[0m ) \u001b[38;5;241m=\u001b[39m \u001b[38;5;28;43mself\u001b[39;49m\u001b[38;5;241;43m.\u001b[39;49m\u001b[43m_get_merge_keys\u001b[49m\u001b[43m(\u001b[49m\u001b[43m)\u001b[49m\n\u001b[1;32m    702\u001b[0m \u001b[38;5;66;03m# validate the merge keys dtypes. We may need to coerce\u001b[39;00m\n\u001b[1;32m    703\u001b[0m \u001b[38;5;66;03m# to avoid incompatible dtypes\u001b[39;00m\n\u001b[1;32m    704\u001b[0m \u001b[38;5;28mself\u001b[39m\u001b[38;5;241m.\u001b[39m_maybe_coerce_merge_keys()\n",
      "File \u001b[0;32m~/opt/anaconda3/lib/python3.9/site-packages/pandas/core/reshape/merge.py:1097\u001b[0m, in \u001b[0;36m_MergeOperation._get_merge_keys\u001b[0;34m(self)\u001b[0m\n\u001b[1;32m   1095\u001b[0m \u001b[38;5;28;01mif\u001b[39;00m \u001b[38;5;129;01mnot\u001b[39;00m is_rkey(rk):\n\u001b[1;32m   1096\u001b[0m     \u001b[38;5;28;01mif\u001b[39;00m rk \u001b[38;5;129;01mis\u001b[39;00m \u001b[38;5;129;01mnot\u001b[39;00m \u001b[38;5;28;01mNone\u001b[39;00m:\n\u001b[0;32m-> 1097\u001b[0m         right_keys\u001b[38;5;241m.\u001b[39mappend(\u001b[43mright\u001b[49m\u001b[38;5;241;43m.\u001b[39;49m\u001b[43m_get_label_or_level_values\u001b[49m\u001b[43m(\u001b[49m\u001b[43mrk\u001b[49m\u001b[43m)\u001b[49m)\n\u001b[1;32m   1098\u001b[0m     \u001b[38;5;28;01melse\u001b[39;00m:\n\u001b[1;32m   1099\u001b[0m         \u001b[38;5;66;03m# work-around for merge_asof(right_index=True)\u001b[39;00m\n\u001b[1;32m   1100\u001b[0m         right_keys\u001b[38;5;241m.\u001b[39mappend(right\u001b[38;5;241m.\u001b[39mindex)\n",
      "File \u001b[0;32m~/opt/anaconda3/lib/python3.9/site-packages/pandas/core/generic.py:1840\u001b[0m, in \u001b[0;36mNDFrame._get_label_or_level_values\u001b[0;34m(self, key, axis)\u001b[0m\n\u001b[1;32m   1838\u001b[0m     values \u001b[38;5;241m=\u001b[39m \u001b[38;5;28mself\u001b[39m\u001b[38;5;241m.\u001b[39maxes[axis]\u001b[38;5;241m.\u001b[39mget_level_values(key)\u001b[38;5;241m.\u001b[39m_values\n\u001b[1;32m   1839\u001b[0m \u001b[38;5;28;01melse\u001b[39;00m:\n\u001b[0;32m-> 1840\u001b[0m     \u001b[38;5;28;01mraise\u001b[39;00m \u001b[38;5;167;01mKeyError\u001b[39;00m(key)\n\u001b[1;32m   1842\u001b[0m \u001b[38;5;66;03m# Check for duplicates\u001b[39;00m\n\u001b[1;32m   1843\u001b[0m \u001b[38;5;28;01mif\u001b[39;00m values\u001b[38;5;241m.\u001b[39mndim \u001b[38;5;241m>\u001b[39m \u001b[38;5;241m1\u001b[39m:\n",
      "\u001b[0;31mKeyError\u001b[0m: 'numero'"
     ]
    }
   ],
   "source": [
    "# Group by NUMERO and POLLUELOS and select the earliest date for each group\n",
    "ch_prim_pol = pica.groupby([\"NUMERO\", \"POLLUELOS\"])[\"FECHA\"].min().reset_index()\n",
    "\n",
    "# Merge the datospornido dataframe with the ch_prim_pol dataframe\n",
    "datospornido = pd.merge(datospornido, ch_prim_pol, on=\"numero\", how=\"left\")\n",
    "\n",
    "# Subtract 20 days from the first check date when there were chicks to infer the lay date, unless it doesn't make sense based on egg check\n",
    "datospornido.loc[datospornido[\"FECHA_x\"] < datospornido[\"FECHA_y\"] - pd.Timedelta(days=20), \"fecha_infer\"] = datospornido[\"FECHA_x\"]\n",
    "datospornido.loc[datospornido[\"FECHA_x\"] >= datospornido[\"FECHA_y\"] - pd.Timedelta(days=20), \"fecha_infer\"] = datospornido[\"FECHA_y\"] - pd.Timedelta(days=20)\n",
    "\n",
    "# Drop the FECHA_y column\n",
    "datospornido = datospornido.drop(columns=\"FECHA_y\")\n",
    "\n",
    "# Rename the FECHA_x column to ch_primer\n",
    "datospornido = datospornido.rename(columns={\"FECHA_x\": \"ch_primer\"})\n",
    "\n",
    "print(datospornido)"
   ]
  },
  {
   "cell_type": "code",
   "execution_count": null,
   "id": "033dc80f-420a-4f5a-ba7a-04956fc72869",
   "metadata": {},
   "outputs": [],
   "source": []
  }
 ],
 "metadata": {
  "kernelspec": {
   "display_name": "Python 3 (ipykernel)",
   "language": "python",
   "name": "python3"
  },
  "language_info": {
   "codemirror_mode": {
    "name": "ipython",
    "version": 3
   },
   "file_extension": ".py",
   "mimetype": "text/x-python",
   "name": "python",
   "nbconvert_exporter": "python",
   "pygments_lexer": "ipython3",
   "version": "3.9.12"
  }
 },
 "nbformat": 4,
 "nbformat_minor": 5
}
